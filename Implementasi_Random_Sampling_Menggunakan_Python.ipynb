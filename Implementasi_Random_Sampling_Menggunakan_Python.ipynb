{
  "nbformat": 4,
  "nbformat_minor": 0,
  "metadata": {
    "colab": {
      "name": "Implementasi_Random_Sampling_Menggunakan_Python.ipynb",
      "version": "0.3.2",
      "provenance": [],
      "include_colab_link": true
    },
    "kernelspec": {
      "name": "python3",
      "display_name": "Python 3"
    }
  },
  "cells": [
    {
      "cell_type": "markdown",
      "metadata": {
        "id": "view-in-github",
        "colab_type": "text"
      },
      "source": [
        "<a href=\"https://colab.research.google.com/github/fadhlis/statistika-tim1/blob/master/Implementasi_Random_Sampling_Menggunakan_Python.ipynb\" target=\"_parent\"><img src=\"https://colab.research.google.com/assets/colab-badge.svg\" alt=\"Open In Colab\"/></a>"
      ]
    },
    {
      "cell_type": "markdown",
      "metadata": {
        "id": "ccpd3d9NSRT4",
        "colab_type": "text"
      },
      "source": [
        "# Implementasi Random Sampling Menggunakan Python\n",
        "\n",
        "## 1. Random Sampling Pada List\n",
        "\n",
        "Berikut contoh bagaimana cara untuk mengimplementasikan random sampling pada list (array) menggunakan python\n",
        "\n",
        "### 1.1 Tanpa Redudansi\n",
        "\n",
        "Untuk menerapkan random sampling tanpa terjadinya redudansi data, maka kita dapat menggunakan fungsi `random.sample()`"
      ]
    },
    {
      "cell_type": "code",
      "metadata": {
        "id": "wt8Gm7FNSfIY",
        "colab_type": "code",
        "outputId": "064d6728-8905-49e0-fdd5-5bd94bc80899",
        "colab": {
          "base_uri": "https://localhost:8080/",
          "height": 34
        }
      },
      "source": [
        "import random\n",
        "\n",
        "# JUMLAH SISWA PUTUS SEKOLAH TIAP PROVINSI\n",
        "# ['PROVINSI':'JML SISWA THN 2016/2017':'JML SISWA THN 2017/2018']\n",
        "data = [\n",
        "    ['Prov. D.K.I. Jakarta',606,570],\n",
        "    ['Prov. Jawa Barat',5626,4779],\n",
        "    ['Prov. Jawa Tengah',2618,1566],\n",
        "    ['Prov. D.I. Yogyakarta',260,143],\n",
        "    ['Prov. Jawa Timur',3991,3850],\n",
        "    ['Prov. Aceh',1173,1367],\n",
        "    ['Prov. Sumatera Utara',3319,2824],\n",
        "    ['Prov. Sumatera Barat',1100,825],\n",
        "    ['Prov. Riau',1011,757],\n",
        "    ['Prov. Jambi',428,454],\n",
        "    ['Prov. Sumatera Selatan',1804,1599],\n",
        "    ['Prov. Lampung',1331,1162],\n",
        "    ['Prov. Kalimantan Barat',1184,889],\n",
        "    ['Prov. Kalimantan Tengah',446,329],\n",
        "    ['Prov. Kalimantan Selatan',491,305],\n",
        "    ['Prov. Kalimantan Timur',383,367],\n",
        "    ['Prov. Sulawesi Utara',311,278],\n",
        "    ['Prov. Sulawesi Tengah',404,290],\n",
        "    ['Prov. Sulawesi Selatan',1384,1298],\n",
        "    ['Prov. Sulawesi Tenggara',960,600],\n",
        "    ['Prov. Maluku',274,413],\n",
        "    ['Prov. Bali',506,198],\n",
        "    ['Prov. Nusa Tenggara Barat',1263,970],\n",
        "    ['Prov. Nusa Tenggara Timur',2256,1617],\n",
        "    ['Prov. Papua',391,503],\n",
        "    ['Prov. Bengkulu',398,359],\n",
        "    ['Prov. Maluku Utara',188,582],\n",
        "    ['Prov. Banten',1234,1282],\n",
        "    ['Prov. Kepulauan Bangka Belitung',257,186],\n",
        "    ['Prov. Gorontalo',130,111],\n",
        "    ['Prov. Kepulauan Riau',222,145],\n",
        "    ['Prov. Papua Barat',198,250],\n",
        "    ['Prov. Sulawesi Barat',203,140],\n",
        "    ['Prov. Kalimantan Utara',69,115],\n",
        "]\n",
        "\n",
        "print(\"3 data terpilih untuk dijadikan sampel adalah : \\n\", random.sample(data, k=3))"
      ],
      "execution_count": 2,
      "outputs": [
        {
          "output_type": "stream",
          "text": [
            "3 data terpilih untuk dijadikan sampel adalah :  [['Prov. Maluku Utara', 188, 582], ['Prov. Kepulauan Bangka Belitung', 257, 186], ['Prov. Banten', 1234, 1282]]\n"
          ],
          "name": "stdout"
        }
      ]
    },
    {
      "cell_type": "markdown",
      "metadata": {
        "id": "CIK30JLPTIoP",
        "colab_type": "text"
      },
      "source": [
        "### 1.2 Dengan Redudansi\n",
        "\n",
        "Untuk menerapkan random sampling dengan menyertakan redudansi data, maka kita dapat menggunakan fungsi `random.choices()`"
      ]
    },
    {
      "cell_type": "code",
      "metadata": {
        "id": "LcFwBpj_TVAL",
        "colab_type": "code",
        "outputId": "2c965878-8d4f-49bc-eab7-9d19068bcb00",
        "colab": {
          "base_uri": "https://localhost:8080/",
          "height": 34
        }
      },
      "source": [
        "import random\n",
        "\n",
        "# JUMLAH SISWA PUTUS SEKOLAH TIAP PROVINSI\n",
        "# ['PROVINSI','JML SISWA THN 2016/2017','JML SISWA THN 2017/2018']\n",
        "data = [\n",
        "    ['Prov. D.K.I. Jakarta',606,570],\n",
        "    ['Prov. Jawa Barat',5626,4779],\n",
        "    ['Prov. Jawa Tengah',2618,1566],\n",
        "    ['Prov. D.I. Yogyakarta',260,143],\n",
        "    ['Prov. Jawa Timur',3991,3850],\n",
        "    ['Prov. Aceh',1173,1367],\n",
        "    ['Prov. Sumatera Utara',3319,2824],\n",
        "    ['Prov. Sumatera Barat',1100,825],\n",
        "    ['Prov. Riau',1011,757],\n",
        "    ['Prov. Jambi',428,454],\n",
        "    ['Prov. Sumatera Selatan',1804,1599],\n",
        "    ['Prov. Lampung',1331,1162],\n",
        "    ['Prov. Kalimantan Barat',1184,889],\n",
        "    ['Prov. Kalimantan Tengah',446,329],\n",
        "    ['Prov. Kalimantan Selatan',491,305],\n",
        "    ['Prov. Kalimantan Timur',383,367],\n",
        "    ['Prov. Sulawesi Utara',311,278],\n",
        "    ['Prov. Sulawesi Tengah',404,290],\n",
        "    ['Prov. Sulawesi Selatan',1384,1298],\n",
        "    ['Prov. Sulawesi Tenggara',960,600],\n",
        "    ['Prov. Maluku',274,413],\n",
        "    ['Prov. Bali',506,198],\n",
        "    ['Prov. Nusa Tenggara Barat',1263,970],\n",
        "    ['Prov. Nusa Tenggara Timur',2256,1617],\n",
        "    ['Prov. Papua',391,503],\n",
        "    ['Prov. Bengkulu',398,359],\n",
        "    ['Prov. Maluku Utara',188,582],\n",
        "    ['Prov. Banten',1234,1282],\n",
        "    ['Prov. Kepulauan Bangka Belitung',257,186],\n",
        "    ['Prov. Gorontalo',130,111],\n",
        "    ['Prov. Kepulauan Riau',222,145],\n",
        "    ['Prov. Papua Barat',198,250],\n",
        "    ['Prov. Sulawesi Barat',203,140],\n",
        "    ['Prov. Kalimantan Utara',69,115],\n",
        "]\n",
        "\n",
        "print(\"3 data terpilih untuk dijadikan sampel adalah : \", random.choices(data, k=3))"
      ],
      "execution_count": 1,
      "outputs": [
        {
          "output_type": "stream",
          "text": [
            "3 data terpilih untuk dijadikan sampel adalah :  [2, 1, 2]\n"
          ],
          "name": "stdout"
        }
      ]
    },
    {
      "cell_type": "markdown",
      "metadata": {
        "id": "PZuuyaAjUOU2",
        "colab_type": "text"
      },
      "source": [
        "### 1.3 Nested List\n",
        "\n",
        "Untuk menerapkan random sampling pada nested list, kita perlu menggunakan library `numpy`, pertama untuk membuat nested list dapat menggunakan fungsi `numpy.array()`, kemudian untuk memilih sampel secara acak dari nested list tersebut dapat menggunakan fungsi `numpy.random.randint()`"
      ]
    },
    {
      "cell_type": "code",
      "metadata": {
        "id": "EHOeEbTIUSNO",
        "colab_type": "code",
        "outputId": "6fdb93b8-3188-4a9f-f773-cdc0de8e9ce2",
        "colab": {
          "base_uri": "https://localhost:8080/",
          "height": 85
        }
      },
      "source": [
        "import random\n",
        "import numpy\n",
        "\n",
        "# JUMLAH SISWA PUTUS SEKOLAH TIAP PROVINSI\n",
        "# ['PROVINSI','JML SISWA THN 2016/2017','JML SISWA THN 2017/2018']\n",
        "data = numpy.array([\n",
        "    ['Prov. D.K.I. Jakarta',606,570],\n",
        "    ['Prov. Jawa Barat',5626,4779],\n",
        "    ['Prov. Jawa Tengah',2618,1566],\n",
        "    ['Prov. D.I. Yogyakarta',260,143],\n",
        "    ['Prov. Jawa Timur',3991,3850],\n",
        "    ['Prov. Aceh',1173,1367],\n",
        "    ['Prov. Sumatera Utara',3319,2824],\n",
        "    ['Prov. Sumatera Barat',1100,825],\n",
        "    ['Prov. Riau',1011,757],\n",
        "    ['Prov. Jambi',428,454],\n",
        "    ['Prov. Sumatera Selatan',1804,1599],\n",
        "    ['Prov. Lampung',1331,1162],\n",
        "    ['Prov. Kalimantan Barat',1184,889],\n",
        "    ['Prov. Kalimantan Tengah',446,329],\n",
        "    ['Prov. Kalimantan Selatan',491,305],\n",
        "    ['Prov. Kalimantan Timur',383,367],\n",
        "    ['Prov. Sulawesi Utara',311,278],\n",
        "    ['Prov. Sulawesi Tengah',404,290],\n",
        "    ['Prov. Sulawesi Selatan',1384,1298],\n",
        "    ['Prov. Sulawesi Tenggara',960,600],\n",
        "    ['Prov. Maluku',274,413],\n",
        "    ['Prov. Bali',506,198],\n",
        "    ['Prov. Nusa Tenggara Barat',1263,970],\n",
        "    ['Prov. Nusa Tenggara Timur',2256,1617],\n",
        "    ['Prov. Papua',391,503],\n",
        "    ['Prov. Bengkulu',398,359],\n",
        "    ['Prov. Maluku Utara',188,582],\n",
        "    ['Prov. Banten',1234,1282],\n",
        "    ['Prov. Kepulauan Bangka Belitung',257,186],\n",
        "    ['Prov. Gorontalo',130,111],\n",
        "    ['Prov. Kepulauan Riau',222,145],\n",
        "    ['Prov. Papua Barat',198,250],\n",
        "    ['Prov. Sulawesi Barat',203,140],\n",
        "    ['Prov. Kalimantan Utara',69,115],\n",
        "])\n",
        "\n",
        "randomData = numpy.random.randint(6, size=3)\n",
        "\n",
        "print(\"3 data terpilih untuk dijadikan sampel adalah : \")\n",
        "for i in randomData:\n",
        "  print(data[i])"
      ],
      "execution_count": 3,
      "outputs": [
        {
          "output_type": "stream",
          "text": [
            "3 data terpilih untuk dijadikan sampel adalah : \n",
            "['Prov. Aceh' '1173' '1367']\n",
            "['Prov. Jawa Timur' '3991' '3850']\n",
            "['Prov. Jawa Tengah' '2618' '1566']\n"
          ],
          "name": "stdout"
        }
      ]
    },
    {
      "cell_type": "markdown",
      "metadata": {
        "id": "_lQGrv7YSgIr",
        "colab_type": "text"
      },
      "source": [
        "## 2. Random Sampling Pada Set\n",
        "\n",
        "Berikut contoh bagaimana cara untuk mengimplementasikan random sampling pada set menggunakan python\n",
        "\n",
        "### 2.1 Tanpa Redudansi\n",
        "\n",
        "Random sampling pada set hanya dapat diimplementasikan tanpa menyertakan redudansi data, hal ini karena set tidak mendukung indexing. Untuk menerapkan random sampling tanpa terjadinya redudansi data, maka kita dapat menggunakan fungsi `random.sample()`"
      ]
    },
    {
      "cell_type": "code",
      "metadata": {
        "id": "BzrfXelASl8X",
        "colab_type": "code",
        "outputId": "f87c5acd-6ff3-4b6a-bec7-8c2f0fb801be",
        "colab": {
          "base_uri": "https://localhost:8080/",
          "height": 51
        }
      },
      "source": [
        "import random\n",
        "\n",
        "data = [\n",
        "    ['Prov. D.K.I. Jakarta',606,570],\n",
        "    ['Prov. Jawa Barat',5626,4779],\n",
        "    ['Prov. Jawa Tengah',2618,1566],\n",
        "    ['Prov. D.I. Yogyakarta',260,143],\n",
        "    ['Prov. Jawa Timur',3991,3850],\n",
        "    ['Prov. Aceh',1173,1367],\n",
        "    ['Prov. Sumatera Utara',3319,2824],\n",
        "    ['Prov. Sumatera Barat',1100,825],\n",
        "    ['Prov. Riau',1011,757],\n",
        "    ['Prov. Jambi',428,454],\n",
        "    ['Prov. Sumatera Selatan',1804,1599],\n",
        "    ['Prov. Lampung',1331,1162],\n",
        "    ['Prov. Kalimantan Barat',1184,889],\n",
        "    ['Prov. Kalimantan Tengah',446,329],\n",
        "    ['Prov. Kalimantan Selatan',491,305],\n",
        "    ['Prov. Kalimantan Timur',383,367],\n",
        "    ['Prov. Sulawesi Utara',311,278],\n",
        "    ['Prov. Sulawesi Tengah',404,290],\n",
        "    ['Prov. Sulawesi Selatan',1384,1298],\n",
        "    ['Prov. Sulawesi Tenggara',960,600],\n",
        "    ['Prov. Maluku',274,413],\n",
        "    ['Prov. Bali',506,198],\n",
        "    ['Prov. Nusa Tenggara Barat',1263,970],\n",
        "    ['Prov. Nusa Tenggara Timur',2256,1617],\n",
        "    ['Prov. Papua',391,503],\n",
        "    ['Prov. Bengkulu',398,359],\n",
        "    ['Prov. Maluku Utara',188,582],\n",
        "    ['Prov. Banten',1234,1282],\n",
        "    ['Prov. Kepulauan Bangka Belitung',257,186],\n",
        "    ['Prov. Gorontalo',130,111],\n",
        "    ['Prov. Kepulauan Riau',222,145],\n",
        "    ['Prov. Papua Barat',198,250],\n",
        "    ['Prov. Sulawesi Barat',203,140],\n",
        "    ['Prov. Kalimantan Utara',69,115],\n",
        "]\n",
        "\n",
        "print(\"3 data terpilih untuk dijadikan sampel adalah : \\n\", random.sample(data, k=3))"
      ],
      "execution_count": 5,
      "outputs": [
        {
          "output_type": "stream",
          "text": [
            "3 data terpilih untuk dijadikan sampel adalah : \n",
            " [['Prov. Sulawesi Barat', 203, 140], ['Prov. Kalimantan Utara', 69, 115], ['Prov. D.K.I. Jakarta', 606, 570]]\n"
          ],
          "name": "stdout"
        }
      ]
    },
    {
      "cell_type": "markdown",
      "metadata": {
        "id": "56wTMbDVSmlh",
        "colab_type": "text"
      },
      "source": [
        "## 3. Random Sampling Pada Dictionary\n",
        "\n",
        "Berikut contoh bagaimana cara untuk mengimplementasikan random sampling pada dictionary (objek) menggunakan python"
      ]
    },
    {
      "cell_type": "markdown",
      "metadata": {
        "id": "bGP0FPx5Tjxm",
        "colab_type": "text"
      },
      "source": [
        "### 3.1 Tanpa Redudansi\n",
        "\n",
        "Random sampling pada dictionary hanya dapat diimplementasikan tanpa menyertakan redudansi data, hal ini karena dictionary tidak mendukung indexing. Untuk menerapkan random sampling tanpa terjadinya redudansi data, maka kita dapat menggunakan fungsi `random.sample()`"
      ]
    },
    {
      "cell_type": "code",
      "metadata": {
        "id": "Uy9m2UTOS3qn",
        "colab_type": "code",
        "outputId": "c72349c1-7906-4a8e-9ad2-fc63854196c9",
        "colab": {
          "base_uri": "https://localhost:8080/",
          "height": 51
        }
      },
      "source": [
        "import random\n",
        "\n",
        "data = {\n",
        "    'Prov. D.K.I. Jakarta':[606,570],\n",
        "     'Prov. Jawa Barat':[5626,4779],\n",
        "    'Prov. Jawa Tengah':[2618,1566],\n",
        "    'Prov. D.I. Yogyakarta':[260,143],\n",
        "    'Prov. Jawa Timur':[3991,3850],\n",
        "    'Prov. Aceh':[1173,1367],\n",
        "    'Prov. Sumatera Utara':[3319,2824],\n",
        "    'Prov. Sumatera Barat':[1100,825],\n",
        "    'Prov. Riau':[1011,757],\n",
        "    'Prov. Jambi':[428,454],\n",
        "    'Prov. Sumatera Selatan':[1804,1599],\n",
        "    'Prov. Lampung':[1331,1162],\n",
        "    'Prov. Kalimantan Barat':[1184,889],\n",
        "    'Prov. Kalimantan Tengah':[446,329],\n",
        "    'Prov. Kalimantan Selatan':[491,305],\n",
        "    'Prov. Kalimantan Timur':[383,367],\n",
        "    'Prov. Sulawesi Utara':[311,278],\n",
        "    'Prov. Sulawesi Tengah':[404,290],\n",
        "    'Prov. Sulawesi Selatan':[1384,1298],\n",
        "    'Prov. Sulawesi Tenggara':[960,600],\n",
        "    'Prov. Maluku':[274,413],\n",
        "    'Prov. Bali':[506,198],\n",
        "    'Prov. Nusa Tenggara Barat':[1263,970],\n",
        "    'Prov. Nusa Tenggara Timur':[2256,1617],\n",
        "    'Prov. Papua':[391,503],\n",
        "    'Prov. Bengkulu':[398,359],\n",
        "    'Prov. Maluku Utara':[188,582],\n",
        "    'Prov. Banten':[1234,1282],\n",
        "    'Prov. Kepulauan Bangka Belitung':[257,186],\n",
        "    'Prov. Gorontalo':[130,111],\n",
        "    'Prov. Kepulauan Riau':[222,145],\n",
        "    'Prov. Papua Barat':[198,250],\n",
        "    'Prov. Sulawesi Barat':[203,140],\n",
        "    'Prov. Kalimantan Utara':[69,115],\n",
        "}\n",
        "print(\"3 data terpilih untuk dijadikan sampel adalah : \\n\", random.sample(data.items(), k=3))"
      ],
      "execution_count": 9,
      "outputs": [
        {
          "output_type": "stream",
          "text": [
            "3 data terpilih untuk dijadikan sampel adalah : \n",
            " [('Prov. Lampung', [1331, 1162]), ('Prov. Sulawesi Tenggara', [960, 600]), ('Prov. Banten', [1234, 1282])]\n"
          ],
          "name": "stdout"
        }
      ]
    }
  ]
}