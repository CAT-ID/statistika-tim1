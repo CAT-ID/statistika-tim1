{
  "nbformat": 4,
  "nbformat_minor": 0,
  "metadata": {
    "colab": {
      "name": "Implementasi Ukuran Pemusatan Data Menggunakan Python.ipynb",
      "version": "0.3.2",
      "provenance": [],
      "include_colab_link": true
    },
    "kernelspec": {
      "name": "python3",
      "display_name": "Python 3"
    }
  },
  "cells": [
    {
      "cell_type": "markdown",
      "metadata": {
        "id": "view-in-github",
        "colab_type": "text"
      },
      "source": [
        "<a href=\"https://colab.research.google.com/github/CAT-ID/statistika-tim1/blob/master/Implementasi_Ukuran_Pemusatan_Data_Menggunakan_Python.ipynb\" target=\"_parent\"><img src=\"https://colab.research.google.com/assets/colab-badge.svg\" alt=\"Open In Colab\"/></a>"
      ]
    },
    {
      "cell_type": "markdown",
      "metadata": {
        "id": "Px1s1FjrhJZK",
        "colab_type": "text"
      },
      "source": [
        "# Implementasi Ukuran Pemusatan Data Menggunakan Python\n",
        "\n",
        "## 1. Mean"
      ]
    },
    {
      "cell_type": "markdown",
      "metadata": {
        "id": "_NE_j3Zcjpoy",
        "colab_type": "text"
      },
      "source": [
        "\n",
        "\n",
        "Berikut contoh implementasi bagaimana mencari mean pada python menggunakan library statistics"
      ]
    },
    {
      "cell_type": "code",
      "metadata": {
        "id": "LK7JCZlRjs_T",
        "colab_type": "code",
        "outputId": "c382e63c-65f6-4e75-8af5-df199a500374",
        "colab": {
          "base_uri": "https://localhost:8080/",
          "height": 35
        }
      },
      "source": [
        "import statistics as stat\n",
        "\n",
        "data=[1, 2, 3, 4, 5]\n",
        "\n",
        "print(\"mean dari data tersebut adalah \", stat.mean(data))"
      ],
      "execution_count": 0,
      "outputs": [
        {
          "output_type": "stream",
          "text": [
            "mean dari data tersebut adalah  3\n"
          ],
          "name": "stdout"
        }
      ]
    },
    {
      "cell_type": "markdown",
      "metadata": {
        "id": "Ga0bpYwYjv4R",
        "colab_type": "text"
      },
      "source": [
        "## 2. Median"
      ]
    },
    {
      "cell_type": "markdown",
      "metadata": {
        "id": "qUBs8g_Qj0jM",
        "colab_type": "text"
      },
      "source": [
        "\n",
        "\n",
        "Berikut contoh implementasi bagaimana mencari median pada python menggunakan library statistics"
      ]
    },
    {
      "cell_type": "code",
      "metadata": {
        "id": "hEnrJl0HqWTF",
        "colab_type": "code",
        "outputId": "14efaf69-e0ad-4c9a-93c9-bed5c17a0717",
        "colab": {
          "base_uri": "https://localhost:8080/",
          "height": 35
        }
      },
      "source": [
        "import statistics as stat\n",
        "\n",
        "data=[1, 2, 3, 4, 5]\n",
        "\n",
        "print(\"median dari data tersebut adalah \", stat.median(data))"
      ],
      "execution_count": 0,
      "outputs": [
        {
          "output_type": "stream",
          "text": [
            "Median:  3.0\n"
          ],
          "name": "stdout"
        }
      ]
    },
    {
      "cell_type": "markdown",
      "metadata": {
        "id": "W7Ebzd7YqYA1",
        "colab_type": "text"
      },
      "source": [
        "## 3. Modus\n"
      ]
    },
    {
      "cell_type": "markdown",
      "metadata": {
        "id": "WqJnzI20qadP",
        "colab_type": "text"
      },
      "source": [
        "\n",
        "\n",
        "Berikut contoh implementasi bagaimana mencari modus pada python menggunakan library statistics\n",
        "\n"
      ]
    },
    {
      "cell_type": "code",
      "metadata": {
        "id": "6ImQ-nSyqbcW",
        "colab_type": "code",
        "outputId": "ac1e5e0a-820d-4e3e-dc14-e1cf2cda998b",
        "colab": {
          "base_uri": "https://localhost:8080/",
          "height": 35
        }
      },
      "source": [
        "import statistics as stat\n",
        "\n",
        "data=[1, 2, 3, 4, 5, 5]\n",
        "\n",
        "print(\"modus dari data tersebut adalah \", stat.mode(data))"
      ],
      "execution_count": 0,
      "outputs": [
        {
          "output_type": "stream",
          "text": [
            "modus dari data tersebut adalah  5\n"
          ],
          "name": "stdout"
        }
      ]
    }
  ]
}