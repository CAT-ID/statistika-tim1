{
  "nbformat": 4,
  "nbformat_minor": 0,
  "metadata": {
    "colab": {
      "name": "Implementasi Ukuran Pemusatan Data Menggunakan Python.ipynb",
      "version": "0.3.2",
      "provenance": [],
      "include_colab_link": true
    },
    "kernelspec": {
      "name": "python3",
      "display_name": "Python 3"
    }
  },
  "cells": [
    {
      "cell_type": "markdown",
      "metadata": {
        "id": "view-in-github",
        "colab_type": "text"
      },
      "source": [
        "<a href=\"https://colab.research.google.com/github/fadhlis/statistika-tim1/blob/master/Implementasi_Ukuran_Pemusatan_Data_Menggunakan_Python.ipynb\" target=\"_parent\"><img src=\"https://colab.research.google.com/assets/colab-badge.svg\" alt=\"Open In Colab\"/></a>"
      ]
    },
    {
      "cell_type": "markdown",
      "metadata": {
        "id": "Px1s1FjrhJZK",
        "colab_type": "text"
      },
      "source": [
        "# Implementasi Ukuran Pemusatan Data Menggunakan Python\n",
        "\n",
        "## 1. Mean"
      ]
    },
    {
      "cell_type": "markdown",
      "metadata": {
        "id": "_NE_j3Zcjpoy",
        "colab_type": "text"
      },
      "source": [
        "\n",
        "\n",
        "Berikut contoh implementasi bagaimana mencari mean pada python menggunakan library statistics"
      ]
    },
    {
      "cell_type": "code",
      "metadata": {
        "id": "LK7JCZlRjs_T",
        "colab_type": "code",
        "outputId": "b085ffe7-be56-4f36-c0e4-8569e2874b0c",
        "colab": {
          "base_uri": "https://localhost:8080/",
          "height": 50
        }
      },
      "source": [
        "import statistics as stat\n",
        "\n",
        "# JUMLAH SISWA PUTUS SEKOLAH TIAP PROVINSI\n",
        "# ['PROVINSI','JML SISWA THN 2016/2017','JML SISWA THN 2017/2018']\n",
        "\n",
        "data = [\n",
        "    ['Prov. D.K.I. Jakarta',606,570],\n",
        "    ['Prov. Jawa Barat',5626,4779],\n",
        "    ['Prov. Jawa Tengah',2618,1566],\n",
        "    ['Prov. D.I. Yogyakarta',260,143],\n",
        "    ['Prov. Jawa Timur',3991,3850],\n",
        "    ['Prov. Aceh',1173,1367],\n",
        "    ['Prov. Sumatera Utara',3319,2824],\n",
        "    ['Prov. Sumatera Barat',1100,825],\n",
        "    ['Prov. Riau',1011,757],\n",
        "    ['Prov. Jambi',428,454],\n",
        "    ['Prov. Sumatera Selatan',1804,1599],\n",
        "    ['Prov. Lampung',1331,1162],\n",
        "    ['Prov. Kalimantan Barat',1184,889],\n",
        "    ['Prov. Kalimantan Tengah',446,329],\n",
        "    ['Prov. Kalimantan Selatan',491,305],\n",
        "    ['Prov. Kalimantan Timur',383,367],\n",
        "    ['Prov. Sulawesi Utara',311,278],\n",
        "    ['Prov. Sulawesi Tengah',404,290],\n",
        "    ['Prov. Sulawesi Selatan',1384,1298],\n",
        "    ['Prov. Sulawesi Tenggara',960,600],\n",
        "    ['Prov. Maluku',274,413],\n",
        "    ['Prov. Bali',506,198],\n",
        "    ['Prov. Nusa Tenggara Barat',1263,970],\n",
        "    ['Prov. Nusa Tenggara Timur',2256,1617],\n",
        "    ['Prov. Papua',391,503],\n",
        "    ['Prov. Bengkulu',398,359],\n",
        "    ['Prov. Maluku Utara',188,582],\n",
        "    ['Prov. Banten',1234,1282],\n",
        "    ['Prov. Kepulauan Bangka Belitung',257,186],\n",
        "    ['Prov. Gorontalo',130,111],\n",
        "    ['Prov. Kepulauan Riau',222,145],\n",
        "    ['Prov. Papua Barat',198,250],\n",
        "    ['Prov. Sulawesi Barat',203,140],\n",
        "    ['Prov. Kalimantan Utara',69,115],\n",
        "    ]\n",
        "\n",
        "data_tahun_2017 = []\n",
        "data_tahun_2018 = []\n",
        "for prov in data:\n",
        "  data_tahun_2017.append(prov[1])\n",
        "  data_tahun_2018.append(prov[2])\n",
        "  \n",
        "\n",
        "print(\"mean dari data tahun 2017 adalah \", stat.mean(data_tahun_2017))\n",
        "print(\"mean dari data tahun 2018 adalah \", stat.mean(data_tahun_2018))"
      ],
      "execution_count": 10,
      "outputs": [
        {
          "output_type": "stream",
          "text": [
            "mean dari data tahun 2017 adalah  1071.1470588235295\n",
            "mean dari data tahun 2018 adalah  915.3823529411765\n"
          ],
          "name": "stdout"
        }
      ]
    },
    {
      "cell_type": "markdown",
      "metadata": {
        "id": "Ga0bpYwYjv4R",
        "colab_type": "text"
      },
      "source": [
        "## 2. Median"
      ]
    },
    {
      "cell_type": "markdown",
      "metadata": {
        "id": "qUBs8g_Qj0jM",
        "colab_type": "text"
      },
      "source": [
        "\n",
        "\n",
        "Berikut contoh implementasi bagaimana mencari median pada python menggunakan library statistics"
      ]
    },
    {
      "cell_type": "code",
      "metadata": {
        "id": "hEnrJl0HqWTF",
        "colab_type": "code",
        "outputId": "56e7bf38-a956-41d9-c161-85e093162e52",
        "colab": {
          "base_uri": "https://localhost:8080/",
          "height": 50
        }
      },
      "source": [
        "import statistics as stat\n",
        "\n",
        "# JUMLAH SISWA PUTUS SEKOLAH TIAP PROVINSI\n",
        "# ['PROVINSI','JML SISWA THN 2016/2017','JML SISWA THN 2017/2018']\n",
        "\n",
        "data = [\n",
        "    ['Prov. D.K.I. Jakarta',606,570],\n",
        "    ['Prov. Jawa Barat',5626,4779],\n",
        "    ['Prov. Jawa Tengah',2618,1566],\n",
        "    ['Prov. D.I. Yogyakarta',260,143],\n",
        "    ['Prov. Jawa Timur',3991,3850],\n",
        "    ['Prov. Aceh',1173,1367],\n",
        "    ['Prov. Sumatera Utara',3319,2824],\n",
        "    ['Prov. Sumatera Barat',1100,825],\n",
        "    ['Prov. Riau',1011,757],\n",
        "    ['Prov. Jambi',428,454],\n",
        "    ['Prov. Sumatera Selatan',1804,1599],\n",
        "    ['Prov. Lampung',1331,1162],\n",
        "    ['Prov. Kalimantan Barat',1184,889],\n",
        "    ['Prov. Kalimantan Tengah',446,329],\n",
        "    ['Prov. Kalimantan Selatan',491,305],\n",
        "    ['Prov. Kalimantan Timur',383,367],\n",
        "    ['Prov. Sulawesi Utara',311,278],\n",
        "    ['Prov. Sulawesi Tengah',404,290],\n",
        "    ['Prov. Sulawesi Selatan',1384,1298],\n",
        "    ['Prov. Sulawesi Tenggara',960,600],\n",
        "    ['Prov. Maluku',274,413],\n",
        "    ['Prov. Bali',506,198],\n",
        "    ['Prov. Nusa Tenggara Barat',1263,970],\n",
        "    ['Prov. Nusa Tenggara Timur',2256,1617],\n",
        "    ['Prov. Papua',391,503],\n",
        "    ['Prov. Bengkulu',398,359],\n",
        "    ['Prov. Maluku Utara',188,582],\n",
        "    ['Prov. Banten',1234,1282],\n",
        "    ['Prov. Kepulauan Bangka Belitung',257,186],\n",
        "    ['Prov. Gorontalo',130,111],\n",
        "    ['Prov. Kepulauan Riau',222,145],\n",
        "    ['Prov. Papua Barat',198,250],\n",
        "    ['Prov. Sulawesi Barat',203,140],\n",
        "    ['Prov. Kalimantan Utara',69,115],\n",
        "    ]\n",
        "\n",
        "data_tahun_2017 = []\n",
        "data_tahun_2018 = []\n",
        "for prov in data:\n",
        "  data_tahun_2017.append(prov[1])\n",
        "  data_tahun_2018.append(prov[2])\n",
        "  \n",
        "\n",
        "print(\"median dari data tahun 2017 adalah \", stat.median(data_tahun_2017))\n",
        "print(\"median dari data tahun 2018 adalah \", stat.median(data_tahun_2018))\n",
        " "
      ],
      "execution_count": 12,
      "outputs": [
        {
          "output_type": "stream",
          "text": [
            "median dari data tahun 2017 adalah  498.5\n",
            "median dari data tahun 2018 adalah  536.5\n"
          ],
          "name": "stdout"
        }
      ]
    },
    {
      "cell_type": "markdown",
      "metadata": {
        "id": "W7Ebzd7YqYA1",
        "colab_type": "text"
      },
      "source": [
        "## 3. Modus\n"
      ]
    },
    {
      "cell_type": "markdown",
      "metadata": {
        "id": "WqJnzI20qadP",
        "colab_type": "text"
      },
      "source": [
        "\n",
        "\n",
        "Berikut contoh implementasi bagaimana mencari modus pada python menggunakan library statistics\n",
        "\n"
      ]
    },
    {
      "cell_type": "code",
      "metadata": {
        "id": "6ImQ-nSyqbcW",
        "colab_type": "code",
        "outputId": "8aa24d8d-4795-476a-fadf-1b30f27d3d88",
        "colab": {
          "base_uri": "https://localhost:8080/",
          "height": 50
        }
      },
      "source": [
        "import statistics as stat\n",
        "\n",
        "# JUMLAH SISWA PUTUS SEKOLAH TIAP PROVINSI\n",
        "# ['PROVINSI','JML SISWA THN 2016/2017','JML SISWA THN 2017/2018']\n",
        "\n",
        "data = [\n",
        "    ['Prov. D.K.I. Jakarta',606,570],\n",
        "    ['Prov. Jawa Barat',5626,4779],\n",
        "    ['Prov. Jawa Tengah',2618,1566],\n",
        "    ['Prov. D.I. Yogyakarta',260,143],\n",
        "    ['Prov. Jawa Timur',3991,3850],\n",
        "    ['Prov. Aceh',1173,1367],\n",
        "    ['Prov. Sumatera Utara',3319,2824],\n",
        "    ['Prov. Sumatera Barat',1100,825],\n",
        "    ['Prov. Riau',1011,757],\n",
        "    ['Prov. Jambi',428,454],\n",
        "    ['Prov. Sumatera Selatan',1804,1599],\n",
        "    ['Prov. Lampung',1331,1162],\n",
        "    ['Prov. Kalimantan Barat',1184,889],\n",
        "    ['Prov. Kalimantan Tengah',446,329],\n",
        "    ['Prov. Kalimantan Selatan',491,305],\n",
        "    ['Prov. Kalimantan Timur',383,367],\n",
        "    ['Prov. Sulawesi Utara',311,278],\n",
        "    ['Prov. Sulawesi Tengah',404,290],\n",
        "    ['Prov. Sulawesi Selatan',1384,1298],\n",
        "    ['Prov. Sulawesi Tenggara',960,600],\n",
        "    ['Prov. Maluku',274,413],\n",
        "    ['Prov. Bali',506,198],\n",
        "    ['Prov. Nusa Tenggara Barat',1263,970],\n",
        "    ['Prov. Nusa Tenggara Timur',2256,1617],\n",
        "    ['Prov. Papua',391,503],\n",
        "    ['Prov. Bengkulu',398,359],\n",
        "    ['Prov. Maluku Utara',188,582],\n",
        "    ['Prov. Banten',1234,1282],\n",
        "    ['Prov. Kepulauan Bangka Belitung',257,186],\n",
        "    ['Prov. Gorontalo',130,111],\n",
        "    ['Prov. Kepulauan Riau',222,145],\n",
        "    ['Prov. Papua Barat',198,250],\n",
        "    ['Prov. Sulawesi Barat',203,140],\n",
        "    ['Prov. Kalimantan Utara',69,115],\n",
        "    ]\n",
        "\n",
        "data_tahun_2017 = []\n",
        "data_tahun_2018 = []\n",
        "for prov in data:\n",
        "  data_tahun_2017.append(prov[1])\n",
        "  data_tahun_2018.append(prov[2])\n",
        "  \n",
        "\n",
        "print(\"median dari data tahun 2017 adalah \", stat.median(data_tahun_2017))\n",
        "print(\"median dari data tahun 2018 adalah \", stat.median(data_tahun_2018)) "
      ],
      "execution_count": 13,
      "outputs": [
        {
          "output_type": "stream",
          "text": [
            "median dari data tahun 2017 adalah  498.5\n",
            "median dari data tahun 2018 adalah  536.5\n"
          ],
          "name": "stdout"
        }
      ]
    }
  ]
}