{
  "nbformat": 4,
  "nbformat_minor": 0,
  "metadata": {
    "colab": {
      "name": "Implementasi_Ukuran_Persebaran_Data_Menggunakan_Python.ipynb",
      "version": "0.3.2",
      "provenance": [],
      "collapsed_sections": [],
      "include_colab_link": true
    },
    "kernelspec": {
      "name": "python3",
      "display_name": "Python 3"
    }
  },
  "cells": [
    {
      "cell_type": "markdown",
      "metadata": {
        "id": "view-in-github",
        "colab_type": "text"
      },
      "source": [
        "<a href=\"https://colab.research.google.com/github/fadhlis/statistika-tim1/blob/master/Implementasi_Ukuran_Persebaran_Data_Menggunakan_Python.ipynb\" target=\"_parent\"><img src=\"https://colab.research.google.com/assets/colab-badge.svg\" alt=\"Open In Colab\"/></a>"
      ]
    },
    {
      "cell_type": "markdown",
      "metadata": {
        "id": "V1LT3_wfi4SS",
        "colab_type": "text"
      },
      "source": [
        "# Implementasi Ukuran Persebaran Data Menggunakan Python\n",
        "\n",
        "## 1. Variasi\n",
        "\n",
        "Variasi merupakan ukuran seberapa jauh sebuah kumpulan bilangan dapat tersebar\n",
        "\n",
        "### 1.1 Menggunakan Library Statistics\n",
        "\n",
        "Berikut contoh implementasi pencarian variasi menggunakan library statistics"
      ]
    },
    {
      "cell_type": "code",
      "metadata": {
        "id": "qHzYO84jjYsC",
        "colab_type": "code",
        "outputId": "106127b8-9ccf-4fdd-f877-8464a9bbf87a",
        "colab": {
          "base_uri": "https://localhost:8080/",
          "height": 51
        }
      },
      "source": [
        "import statistics as stat\n",
        "\n",
        "# JUMLAH SISWA PUTUS SEKOLAH TIAP PROVINSI\n",
        "# ['PROVINSI','JML SISWA THN 2016/2017','JML SISWA THN 2017/2018']\n",
        "data = [\n",
        "    ['Prov. D.K.I. Jakarta',606,570],\n",
        "    ['Prov. Jawa Barat',5626,4779],\n",
        "    ['Prov. Jawa Tengah',2618,1566],\n",
        "    ['Prov. D.I. Yogyakarta',260,143],\n",
        "    ['Prov. Jawa Timur',3991,3850],\n",
        "    ['Prov. Aceh',1173,1367],\n",
        "    ['Prov. Sumatera Utara',3319,2824],\n",
        "    ['Prov. Sumatera Barat',1100,825],\n",
        "    ['Prov. Riau',1011,757],\n",
        "    ['Prov. Jambi',428,454],\n",
        "    ['Prov. Sumatera Selatan',1804,1599],\n",
        "    ['Prov. Lampung',1331,1162],\n",
        "    ['Prov. Kalimantan Barat',1184,889],\n",
        "    ['Prov. Kalimantan Tengah',446,329],\n",
        "    ['Prov. Kalimantan Selatan',491,305],\n",
        "    ['Prov. Kalimantan Timur',383,367],\n",
        "    ['Prov. Sulawesi Utara',311,278],\n",
        "    ['Prov. Sulawesi Tengah',404,290],\n",
        "    ['Prov. Sulawesi Selatan',1384,1298],\n",
        "    ['Prov. Sulawesi Tenggara',960,600],\n",
        "    ['Prov. Maluku',274,413],\n",
        "    ['Prov. Bali',506,198],\n",
        "    ['Prov. Nusa Tenggara Barat',1263,970],\n",
        "    ['Prov. Nusa Tenggara Timur',2256,1617],\n",
        "    ['Prov. Papua',391,503],\n",
        "    ['Prov. Bengkulu',398,359],\n",
        "    ['Prov. Maluku Utara',188,582],\n",
        "    ['Prov. Banten',1234,1282],\n",
        "    ['Prov. Kepulauan Bangka Belitung',257,186],\n",
        "    ['Prov. Gorontalo',130,111],\n",
        "    ['Prov. Kepulauan Riau',222,145],\n",
        "    ['Prov. Papua Barat',198,250],\n",
        "    ['Prov. Sulawesi Barat',203,140],\n",
        "    ['Prov. Kalimantan Utara',69,115],\n",
        "]\n",
        "\n",
        "data_tahun_2017 = []\n",
        "data_tahun_2018 = []\n",
        "for prov in data:\n",
        "  data_tahun_2017.append(prov[1])\n",
        "  data_tahun_2018.append(prov[2])\n",
        "\n",
        "\n",
        "print(\"varian dari data tahun 2017 adalah \", stat.variance(data_tahun_2017))\n",
        "print(\"varian dari data tahun 2018 adalah \", stat.variance(data_tahun_2018))"
      ],
      "execution_count": 7,
      "outputs": [
        {
          "output_type": "stream",
          "text": [
            "varian dari data tahun 2017 adalah  1511506.9171122992\n",
            "varian dari data tahun 2018 adalah  1115313.0918003565\n"
          ],
          "name": "stdout"
        }
      ]
    },
    {
      "cell_type": "markdown",
      "metadata": {
        "id": "PyrORW0Pe8Zd",
        "colab_type": "text"
      },
      "source": [
        "### 1.2 Menggunakan Library Numpy\n",
        "\n",
        "Berikut contoh implementasi pencarian variasi menggunakan library numpy"
      ]
    },
    {
      "cell_type": "code",
      "metadata": {
        "id": "rGFY80WkfDZs",
        "colab_type": "code",
        "outputId": "79d286a5-f61b-46a0-b4b0-30fabcb3e7b4",
        "colab": {
          "base_uri": "https://localhost:8080/",
          "height": 35
        }
      },
      "source": [
        "import numpy as np  \n",
        "\n",
        "# JUMLAH SISWA PUTUS SEKOLAH TIAP PROVINSI\n",
        "# ['PROVINSI','JML SISWA THN 2016/2017','JML SISWA THN 2017/2018']\n",
        "data = [\n",
        "    ['Prov. D.K.I. Jakarta',606,570],\n",
        "    ['Prov. Jawa Barat',5626,4779],\n",
        "    ['Prov. Jawa Tengah',2618,1566],\n",
        "    ['Prov. D.I. Yogyakarta',260,143],\n",
        "    ['Prov. Jawa Timur',3991,3850],\n",
        "    ['Prov. Aceh',1173,1367],\n",
        "    ['Prov. Sumatera Utara',3319,2824],\n",
        "    ['Prov. Sumatera Barat',1100,825],\n",
        "    ['Prov. Riau',1011,757],\n",
        "    ['Prov. Jambi',428,454],\n",
        "    ['Prov. Sumatera Selatan',1804,1599],\n",
        "    ['Prov. Lampung',1331,1162],\n",
        "    ['Prov. Kalimantan Barat',1184,889],\n",
        "    ['Prov. Kalimantan Tengah',446,329],\n",
        "    ['Prov. Kalimantan Selatan',491,305],\n",
        "    ['Prov. Kalimantan Timur',383,367],\n",
        "    ['Prov. Sulawesi Utara',311,278],\n",
        "    ['Prov. Sulawesi Tengah',404,290],\n",
        "    ['Prov. Sulawesi Selatan',1384,1298],\n",
        "    ['Prov. Sulawesi Tenggara',960,600],\n",
        "    ['Prov. Maluku',274,413],\n",
        "    ['Prov. Bali',506,198],\n",
        "    ['Prov. Nusa Tenggara Barat',1263,970],\n",
        "    ['Prov. Nusa Tenggara Timur',2256,1617],\n",
        "    ['Prov. Papua',391,503],\n",
        "    ['Prov. Bengkulu',398,359],\n",
        "    ['Prov. Maluku Utara',188,582],\n",
        "    ['Prov. Banten',1234,1282],\n",
        "    ['Prov. Kepulauan Bangka Belitung',257,186],\n",
        "    ['Prov. Gorontalo',130,111],\n",
        "    ['Prov. Kepulauan Riau',222,145],\n",
        "    ['Prov. Papua Barat',198,250],\n",
        "    ['Prov. Sulawesi Barat',203,140],\n",
        "    ['Prov. Kalimantan Utara',69,115],\n",
        "]\n",
        "\n",
        "data_tahun_2017 = []\n",
        "data_tahun_2018 = []\n",
        "for prov in data:\n",
        "  data_tahun_2017.append(prov[1])\n",
        "  data_tahun_2018.append(prov[2])\n",
        "\n",
        "\n",
        "print(\"varian dari data tahun 2017 adalah \", np.var(data_tahun_2017))\n",
        "print(\"varian dari data tahun 2018 adalah \", np.var(data_tahun_2018))"
      ],
      "execution_count": 0,
      "outputs": [
        {
          "output_type": "stream",
          "text": [
            "varian dari data tersebut adalah  363.859375\n"
          ],
          "name": "stdout"
        }
      ]
    },
    {
      "cell_type": "markdown",
      "metadata": {
        "id": "1Azps_9tjaPQ",
        "colab_type": "text"
      },
      "source": [
        "## 2. Standard Deviasi\n",
        "\n",
        "Standar deviasi merupakan nilai statistik yang digunakan untuk menentukan bagaimana sebaran data dalam sampel, dan seberapa dekat titik data individu ke mean atau rata - rata nilai sampel\n",
        "\n",
        "### 2.1 Menggunakan Library Statistics\n",
        "\n",
        "Berikut contoh implementasi pencarian standard deviasi menggunakan library statistics"
      ]
    },
    {
      "cell_type": "code",
      "metadata": {
        "id": "H2isBZ1ejf9B",
        "colab_type": "code",
        "outputId": "5766bcb9-5211-40c4-f9d1-616d22310298",
        "colab": {
          "base_uri": "https://localhost:8080/",
          "height": 51
        }
      },
      "source": [
        "import statistics as stat\n",
        "\n",
        "# JUMLAH SISWA PUTUS SEKOLAH TIAP PROVINSI\n",
        "# ['PROVINSI','JML SISWA THN 2016/2017','JML SISWA THN 2017/2018']\n",
        "data = [\n",
        "    ['Prov. D.K.I. Jakarta',606,570],\n",
        "    ['Prov. Jawa Barat',5626,4779],\n",
        "    ['Prov. Jawa Tengah',2618,1566],\n",
        "    ['Prov. D.I. Yogyakarta',260,143],\n",
        "    ['Prov. Jawa Timur',3991,3850],\n",
        "    ['Prov. Aceh',1173,1367],\n",
        "    ['Prov. Sumatera Utara',3319,2824],\n",
        "    ['Prov. Sumatera Barat',1100,825],\n",
        "    ['Prov. Riau',1011,757],\n",
        "    ['Prov. Jambi',428,454],\n",
        "    ['Prov. Sumatera Selatan',1804,1599],\n",
        "    ['Prov. Lampung',1331,1162],\n",
        "    ['Prov. Kalimantan Barat',1184,889],\n",
        "    ['Prov. Kalimantan Tengah',446,329],\n",
        "    ['Prov. Kalimantan Selatan',491,305],\n",
        "    ['Prov. Kalimantan Timur',383,367],\n",
        "    ['Prov. Sulawesi Utara',311,278],\n",
        "    ['Prov. Sulawesi Tengah',404,290],\n",
        "    ['Prov. Sulawesi Selatan',1384,1298],\n",
        "    ['Prov. Sulawesi Tenggara',960,600],\n",
        "    ['Prov. Maluku',274,413],\n",
        "    ['Prov. Bali',506,198],\n",
        "    ['Prov. Nusa Tenggara Barat',1263,970],\n",
        "    ['Prov. Nusa Tenggara Timur',2256,1617],\n",
        "    ['Prov. Papua',391,503],\n",
        "    ['Prov. Bengkulu',398,359],\n",
        "    ['Prov. Maluku Utara',188,582],\n",
        "    ['Prov. Banten',1234,1282],\n",
        "    ['Prov. Kepulauan Bangka Belitung',257,186],\n",
        "    ['Prov. Gorontalo',130,111],\n",
        "    ['Prov. Kepulauan Riau',222,145],\n",
        "    ['Prov. Papua Barat',198,250],\n",
        "    ['Prov. Sulawesi Barat',203,140],\n",
        "    ['Prov. Kalimantan Utara',69,115],\n",
        "]\n",
        "\n",
        "data_tahun_2017 = []\n",
        "data_tahun_2018 = []\n",
        "for prov in data:\n",
        "  data_tahun_2017.append(prov[1])\n",
        "  data_tahun_2018.append(prov[2])\n",
        "  \n",
        "\n",
        "print(\"varian dari data tahun 2017 adalah \", stat.stdev(data_tahun_2017))\n",
        "print(\"varian dari data tahun 2018 adalah \", stat.stdev(data_tahun_2018))"
      ],
      "execution_count": 12,
      "outputs": [
        {
          "output_type": "stream",
          "text": [
            "varian dari data tahun 2017 adalah  1229.4335757218846\n",
            "varian dari data tahun 2018 adalah  1056.0838469555135\n"
          ],
          "name": "stdout"
        }
      ]
    },
    {
      "cell_type": "markdown",
      "metadata": {
        "id": "zrMhBwqGfMDK",
        "colab_type": "text"
      },
      "source": [
        "### 2.1 Menggunakan Library Numpy\n",
        "\n",
        "Berikut contoh implementasi pencarian standard deviasi menggunakan library numpy"
      ]
    },
    {
      "cell_type": "code",
      "metadata": {
        "id": "n3W5E4HefN96",
        "colab_type": "code",
        "outputId": "33c170bf-82a3-4d3a-c7be-88ccdfb23a85",
        "colab": {
          "base_uri": "https://localhost:8080/",
          "height": 35
        }
      },
      "source": [
        "import numpy as np  \n",
        "\n",
        "# JUMLAH SISWA PUTUS SEKOLAH TIAP PROVINSI\n",
        "# ['PROVINSI','JML SISWA THN 2016/2017','JML SISWA THN 2017/2018']\n",
        "data = [\n",
        "    ['Prov. D.K.I. Jakarta',606,570],\n",
        "    ['Prov. Jawa Barat',5626,4779],\n",
        "    ['Prov. Jawa Tengah',2618,1566],\n",
        "    ['Prov. D.I. Yogyakarta',260,143],\n",
        "    ['Prov. Jawa Timur',3991,3850],\n",
        "    ['Prov. Aceh',1173,1367],\n",
        "    ['Prov. Sumatera Utara',3319,2824],\n",
        "    ['Prov. Sumatera Barat',1100,825],\n",
        "    ['Prov. Riau',1011,757],\n",
        "    ['Prov. Jambi',428,454],\n",
        "    ['Prov. Sumatera Selatan',1804,1599],\n",
        "    ['Prov. Lampung',1331,1162],\n",
        "    ['Prov. Kalimantan Barat',1184,889],\n",
        "    ['Prov. Kalimantan Tengah',446,329],\n",
        "    ['Prov. Kalimantan Selatan',491,305],\n",
        "    ['Prov. Kalimantan Timur',383,367],\n",
        "    ['Prov. Sulawesi Utara',311,278],\n",
        "    ['Prov. Sulawesi Tengah',404,290],\n",
        "    ['Prov. Sulawesi Selatan',1384,1298],\n",
        "    ['Prov. Sulawesi Tenggara',960,600],\n",
        "    ['Prov. Maluku',274,413],\n",
        "    ['Prov. Bali',506,198],\n",
        "    ['Prov. Nusa Tenggara Barat',1263,970],\n",
        "    ['Prov. Nusa Tenggara Timur',2256,1617],\n",
        "    ['Prov. Papua',391,503],\n",
        "    ['Prov. Bengkulu',398,359],\n",
        "    ['Prov. Maluku Utara',188,582],\n",
        "    ['Prov. Banten',1234,1282],\n",
        "    ['Prov. Kepulauan Bangka Belitung',257,186],\n",
        "    ['Prov. Gorontalo',130,111],\n",
        "    ['Prov. Kepulauan Riau',222,145],\n",
        "    ['Prov. Papua Barat',198,250],\n",
        "    ['Prov. Sulawesi Barat',203,140],\n",
        "    ['Prov. Kalimantan Utara',69,115],\n",
        "]\n",
        "\n",
        "data_tahun_2017 = []\n",
        "data_tahun_2018 = []\n",
        "for prov in data:\n",
        "  data_tahun_2017.append(prov[1])\n",
        "  data_tahun_2018.append(prov[2])\n",
        "  \n",
        "\n",
        "print(\"varian dari data tahun 2017 adalah \", np.std(data_tahun_2017))\n",
        "print(\"varian dari data tahun 2018 adalah \", np.std(data_tahun_2018))"
      ],
      "execution_count": 0,
      "outputs": [
        {
          "output_type": "stream",
          "text": [
            "standard deviasi dari data tersebut adalah  19.07509829594595\n"
          ],
          "name": "stdout"
        }
      ]
    }
  ]
}