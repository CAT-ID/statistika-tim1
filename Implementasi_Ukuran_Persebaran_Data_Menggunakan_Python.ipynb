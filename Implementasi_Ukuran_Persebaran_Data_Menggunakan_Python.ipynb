{
  "nbformat": 4,
  "nbformat_minor": 0,
  "metadata": {
    "colab": {
      "name": "Implementasi_Ukuran_Persebaran_Data_Menggunakan_Python.ipynb",
      "version": "0.3.2",
      "provenance": [],
      "include_colab_link": true
    },
    "kernelspec": {
      "name": "python3",
      "display_name": "Python 3"
    }
  },
  "cells": [
    {
      "cell_type": "markdown",
      "metadata": {
        "id": "view-in-github",
        "colab_type": "text"
      },
      "source": [
        "<a href=\"https://colab.research.google.com/github/fadhlis/statistika-tim1/blob/master/Implementasi_Ukuran_Persebaran_Data_Menggunakan_Python.ipynb\" target=\"_parent\"><img src=\"https://colab.research.google.com/assets/colab-badge.svg\" alt=\"Open In Colab\"/></a>"
      ]
    },
    {
      "cell_type": "markdown",
      "metadata": {
        "id": "V1LT3_wfi4SS",
        "colab_type": "text"
      },
      "source": [
        "# Implementasi Ukuran Persebaran Data Menggunakan Python\n",
        "\n",
        "## 1. Variasi\n",
        "\n",
        "Variasi merupakan ukuran seberapa jauh sebuah kumpulan bilangan dapat tersebar\n",
        "\n",
        "### 1.1 Menggunakan Library Statistics\n",
        "\n",
        "Berikut contoh implementasi pencarian variasi menggunakan library statistics"
      ]
    },
    {
      "cell_type": "code",
      "metadata": {
        "id": "qHzYO84jjYsC",
        "colab_type": "code",
        "outputId": "a6dd12c8-4819-4df8-fc7d-d1b7b3ae443c",
        "colab": {
          "base_uri": "https://localhost:8080/",
          "height": 35
        }
      },
      "source": [
        "import statistics as stat\n",
        "\n",
        "data=[10, 51, 63, 43, 64, 23, 64, 57]\n",
        "\n",
        "print(\"varian dari data tersebut adalah \", stat.variance(data))"
      ],
      "execution_count": 0,
      "outputs": [
        {
          "output_type": "stream",
          "text": [
            "varian dari data tersebut adalah  415.8392857142857\n"
          ],
          "name": "stdout"
        }
      ]
    },
    {
      "cell_type": "markdown",
      "metadata": {
        "id": "PyrORW0Pe8Zd",
        "colab_type": "text"
      },
      "source": [
        "### 1.2 Menggunakan Library Numpy\n",
        "\n",
        "Berikut contoh implementasi pencarian variasi menggunakan library numpy"
      ]
    },
    {
      "cell_type": "code",
      "metadata": {
        "id": "rGFY80WkfDZs",
        "colab_type": "code",
        "outputId": "79d286a5-f61b-46a0-b4b0-30fabcb3e7b4",
        "colab": {
          "base_uri": "https://localhost:8080/",
          "height": 35
        }
      },
      "source": [
        "import numpy as np  \n",
        "\n",
        "data=[10, 51, 63, 43, 64, 23, 64, 57]\n",
        "\n",
        "print(\"varian dari data tersebut adalah \", np.var(data))"
      ],
      "execution_count": 0,
      "outputs": [
        {
          "output_type": "stream",
          "text": [
            "varian dari data tersebut adalah  363.859375\n"
          ],
          "name": "stdout"
        }
      ]
    },
    {
      "cell_type": "markdown",
      "metadata": {
        "id": "1Azps_9tjaPQ",
        "colab_type": "text"
      },
      "source": [
        "## 2. Standard Deviasi\n",
        "\n",
        "Standar deviasi merupakan nilai statistik yang digunakan untuk menentukan bagaimana sebaran data dalam sampel, dan seberapa dekat titik data individu ke mean atau rata - rata nilai sampel\n",
        "\n",
        "### 2.1 Menggunakan Library Statistics\n",
        "\n",
        "Berikut contoh implementasi pencarian standard deviasi menggunakan library statistics"
      ]
    },
    {
      "cell_type": "code",
      "metadata": {
        "id": "H2isBZ1ejf9B",
        "colab_type": "code",
        "outputId": "949e6e7a-9509-4918-cae7-5620776acb31",
        "colab": {
          "base_uri": "https://localhost:8080/",
          "height": 35
        }
      },
      "source": [
        "import statistics as stat\n",
        "\n",
        "data=[10, 51, 63, 43, 64, 23, 64, 57]\n",
        "\n",
        "print(\"standard deviasi dari data tersebut adalah \", stat.stdev(data))"
      ],
      "execution_count": 0,
      "outputs": [
        {
          "output_type": "stream",
          "text": [
            "standard deviasi dari data tersebut adalah  20.392137840704336\n"
          ],
          "name": "stdout"
        }
      ]
    },
    {
      "cell_type": "markdown",
      "metadata": {
        "id": "zrMhBwqGfMDK",
        "colab_type": "text"
      },
      "source": [
        "### 2.1 Menggunakan Library Numpy\n",
        "\n",
        "Berikut contoh implementasi pencarian standard deviasi menggunakan library numpy"
      ]
    },
    {
      "cell_type": "code",
      "metadata": {
        "id": "n3W5E4HefN96",
        "colab_type": "code",
        "outputId": "33c170bf-82a3-4d3a-c7be-88ccdfb23a85",
        "colab": {
          "base_uri": "https://localhost:8080/",
          "height": 35
        }
      },
      "source": [
        "import numpy as np  \n",
        "\n",
        "data=[10, 51, 63, 43, 64, 23, 64, 57]\n",
        "\n",
        "print(\"standard deviasi dari data tersebut adalah \", np.std(data))"
      ],
      "execution_count": 0,
      "outputs": [
        {
          "output_type": "stream",
          "text": [
            "standard deviasi dari data tersebut adalah  19.07509829594595\n"
          ],
          "name": "stdout"
        }
      ]
    }
  ]
}